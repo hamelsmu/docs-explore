{
 "cells": [
  {
   "cell_type": "code",
   "execution_count": 19,
   "id": "f0fca941",
   "metadata": {},
   "outputs": [],
   "source": [
    "__file__ = '/Users/hamel/github/docs-explore/custom/scratchpad.ipynb'"
   ]
  },
  {
   "cell_type": "raw",
   "id": "b095b0ae-996f-4fc6-ae51-8527e40e8952",
   "metadata": {},
   "source": [
    "Notes:\n",
    "\n",
    "nbdev.export2html:\n",
    "\n",
    "treat_backticks(cell) -> cell\n",
    "    show_doc.add_doc_links(cell['source'])\n",
    "        doc_link(name) -> str (that is a markdown link)\n",
    "            source_nb(name) -> bool # if in the current library\n",
    "            get_nbdev_module().custom_doc_links() -> str #somewhere else\n",
    "\n",
    "\n",
    "# sync code back to notebooks:\n",
    "nbdev_update_lib(fname, silent) -> None\n",
    "    _script2notebook\n"
   ]
  },
  {
   "cell_type": "code",
   "execution_count": 17,
   "id": "05eb5055",
   "metadata": {},
   "outputs": [],
   "source": [
    "from nbconvert import MarkdownExporter\n",
    "from nbconvert.preprocessors import TagRemovePreprocessor\n",
    "import traitlets\n",
    "from pathlib import Path\n",
    "\n",
    "def exporter(cls=MarkdownExporter, template_file=None):\n",
    "    c = traitlets.config.get_config()\n",
    "    c.TagRemovePreprocessor.remove_cell_tags = (\"remove_cell\",)\n",
    "    c.TagRemovePreprocessor.remove_all_outputs_tags = ('remove_output',)\n",
    "    c.TagRemovePreprocessor.remove_input_tags = ('remove_input',)\n",
    "    c.TagRemovePreprocessor.enabled = True\n",
    "    exporter = cls(c)\n",
    "    exporter.exclude_input_prompt=True\n",
    "    exporter.exclude_output_prompt=True\n",
    "    exporter.anchor_link_text = ' '\n",
    "    exporter.template_file = 'ob.tpl'\n",
    "    exporter.template_paths.append(str(Path(__file__).parent/'templates'))\n",
    "    return exporter"
   ]
  },
  {
   "cell_type": "code",
   "execution_count": 18,
   "id": "100debf4",
   "metadata": {
    "tags": []
   },
   "outputs": [
    {
     "name": "stdout",
     "output_type": "stream",
     "text": [
      "---\n",
      "title: my hello page title\n",
      "description: my hello page description\n",
      "hide_table_of_contents: true\n",
      "---\n",
      "```python\n",
      "# from IPython.core.magic import register_cell_magic\n",
      "# import tempfile, os\n",
      "\n",
      "# @register_cell_magic\n",
      "# def mf(line, cell):\n",
      "#     with tempfile.NamedTemporaryFile() as fp:\n",
      "#         cell_code = [s.encode('utf-8') for s in cell]\n",
      "#         preamble = [b'from metaflow import *'] \n",
      "#         fp.writelines(cell_code)\n",
      "#         fp.seek(0)\n",
      "#         real_command = f\"python {fp.name} {line}\"\n",
      "#         disp_command = f\"python flow.py {line}\"\n",
      "#         print(f\">>> {disp_command}\")\n",
      "#         os.system(real_command)\n",
      "```\n",
      "\n",
      "```python\n",
      "! echo hello\n",
      "```\n",
      "\n",
      "    hello\n",
      "\n",
      "\n",
      "```python\n",
      "%%writefile myflow.py\n",
      "\n",
      "from metaflow import FlowSpec, step\n",
      "\n",
      "class MyFlow(FlowSpec):\n",
      "    \n",
      "    @step\n",
      "    def start(self):\n",
      "        print('this is the start')\n",
      "        self.next(self.end)\n",
      "    \n",
      "    @step\n",
      "    def end(self):\n",
      "        print('this is the end')\n",
      "\n",
      "if __name__ == '__main__':\n",
      "    MyFlow()\n",
      "```\n",
      "\n",
      "    Overwriting myflow.py\n",
      "\n",
      "\n",
      "```python\n",
      "a = 2\n",
      "```\n",
      "\n"
     ]
    }
   ],
   "source": [
    "exp = exporter()\n",
    "print(exp.from_filename('Custom_Doc_System.ipynb')[0])"
   ]
  },
  {
   "cell_type": "code",
   "execution_count": null,
   "id": "02cb689e-57d2-425c-ba8d-86863283b957",
   "metadata": {},
   "outputs": [],
   "source": []
  }
 ],
 "metadata": {
  "kernelspec": {
   "display_name": "Python 3.9.7 ('base')",
   "language": "python",
   "name": "python397jvsc74a57bd042fd40e048e0585f88ec242f050f7ef0895cf845a8dd1159352394e5826cd102"
  },
  "language_info": {
   "codemirror_mode": {
    "name": "ipython",
    "version": 3
   },
   "file_extension": ".py",
   "mimetype": "text/x-python",
   "name": "python",
   "nbconvert_exporter": "python",
   "pygments_lexer": "ipython3",
   "version": "3.9.7"
  }
 },
 "nbformat": 4,
 "nbformat_minor": 5
}
