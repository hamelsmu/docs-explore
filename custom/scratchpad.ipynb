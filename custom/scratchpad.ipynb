{
 "cells": [
  {
   "cell_type": "code",
   "execution_count": 10,
   "id": "f0fca941",
   "metadata": {},
   "outputs": [],
   "source": [
    "__file__ = '/Users/hamel/github/docs-explore/custom/scratchpad.ipynb'"
   ]
  },
  {
   "cell_type": "raw",
   "id": "b095b0ae-996f-4fc6-ae51-8527e40e8952",
   "metadata": {},
   "source": [
    "Notes:\n",
    "\n",
    "nbdev.export2html:\n",
    "\n",
    "treat_backticks(cell) -> cell\n",
    "    show_doc.add_doc_links(cell['source'])\n",
    "        doc_link(name) -> str (that is a markdown link)\n",
    "            source_nb(name) -> bool # if in the current library\n",
    "            get_nbdev_module().custom_doc_links() -> str #somewhere else\n",
    "\n",
    "\n",
    "# sync code back to notebooks:\n",
    "nbdev_update_lib(fname, silent) -> None\n",
    "    _script2notebook\n"
   ]
  },
  {
   "cell_type": "code",
   "execution_count": 11,
   "id": "6083efe3-5f2f-4751-be54-2a6387a62d93",
   "metadata": {},
   "outputs": [],
   "source": [
    "from nbconvert.preprocessors import Preprocessor\n",
    "from nbconvert import MarkdownExporter, TemplateExporter\n",
    "from nbconvert.preprocessors import TagRemovePreprocessor\n",
    "import traitlets\n",
    "from traitlets.config import Config\n",
    "from pathlib import Path"
   ]
  },
  {
   "cell_type": "code",
   "execution_count": 12,
   "id": "35bcd63a-5781-4e2b-982b-f33cd434b21c",
   "metadata": {},
   "outputs": [],
   "source": [
    "from fastcore.all import L\n",
    "from traitlets import Unicode\n",
    "import re"
   ]
  },
  {
   "cell_type": "code",
   "execution_count": 13,
   "id": "5d9544a1-bce7-440e-a9f2-690da57f8345",
   "metadata": {},
   "outputs": [
    {
     "data": {
      "text/plain": [
       "' %hi'"
      ]
     },
     "execution_count": 13,
     "metadata": {},
     "output_type": "execute_result"
    }
   ],
   "source": [
    "re.sub('^\\s*(%%|%).+?[\\n\\r]', '', '% foo hello \\n %hi')"
   ]
  },
  {
   "cell_type": "code",
   "execution_count": 14,
   "id": "5f2e0e01-a672-4543-a43f-1c87cc55e4b0",
   "metadata": {},
   "outputs": [],
   "source": [
    "class TestMagic(Preprocessor):\n",
    "    \"\"\"A preprocessor to remove cell magic commands\"\"\"\n",
    "    \n",
    "    def preprocess_cell(self, cell, resources, index):\n",
    "        if cell.cell_type == 'code':\n",
    "            cleaned = L(cell.source.split('\\n')).filter(lambda x: not x.strip().startswith('# @register'))\n",
    "            cell.source = '\\n'.join(cleaned).strip()\n",
    "        return cell, resources"
   ]
  },
  {
   "cell_type": "code",
   "execution_count": 15,
   "id": "848fd452-3d63-4c41-aaa6-e14cbeb9fdcd",
   "metadata": {},
   "outputs": [],
   "source": [
    "class CleanMagics(Preprocessor):\n",
    "    \"\"\"A preprocessor to remove cell magic commands\"\"\"\n",
    "    pattern = '^\\s*(%%|%).+?[\\n\\r]'\n",
    "    \n",
    "    def preprocess_cell(self, cell, resources, index):\n",
    "        if cell.cell_type == 'code': cell.source = re.sub(self.pattern, '', cell.source).strip()\n",
    "        return cell, resources"
   ]
  },
  {
   "cell_type": "code",
   "execution_count": 38,
   "id": "fac43e18-9e51-4ede-af74-3c5d710925a1",
   "metadata": {},
   "outputs": [],
   "source": [
    "def get_exporter(template_file='ob.tpl'):\n",
    "    c = Config()\n",
    "    c.TagRemovePreprocessor.remove_cell_tags = (\"remove_cell\",)\n",
    "    c.TagRemovePreprocessor.remove_all_outputs_tags = ('remove_output',)\n",
    "    c.TagRemovePreprocessor.remove_input_tags = ('remove_input',)\n",
    "    c.MarkdownExporter.preprocessors = [CleanMagics]\n",
    "    tmp_dir = Path(__file__).parent/'templates/'\n",
    "    tmp_file = tmp_dir/f\"{template_file}\"\n",
    "    if not tmp_file.exists(): raise ValueError(f\"{tmp_file} does not exist in {tmp_dir}\")\n",
    "    c.MarkdownExporter.template_file = str(tmp_file)\n",
    "    return MarkdownExporter(config=c)"
   ]
  },
  {
   "cell_type": "code",
   "execution_count": 41,
   "id": "df3d4440-3adc-4b49-9b36-ddf5534dff23",
   "metadata": {},
   "outputs": [],
   "source": [
    "hamel = get_exporter()"
   ]
  },
  {
   "cell_type": "code",
   "execution_count": 42,
   "id": "b17d7bb3-ef97-440b-91e7-5c7c014137b6",
   "metadata": {},
   "outputs": [
    {
     "name": "stdout",
     "output_type": "stream",
     "text": [
      "---\n",
      "title: my hello page title\n",
      "description: my hello page description\n",
      "hide_table_of_contents: true\n",
      "---\n",
      "\n",
      "```python\n",
      "# from IPython.core.magic import register_cell_magic\n",
      "# import tempfile, os\n",
      "\n",
      "# @register_cell_magic\n",
      "# def mf(line, cell):\n",
      "#     with tempfile.NamedTemporaryFile() as fp:\n",
      "#         cell_code = [s.encode('utf-8') for s in cell]\n",
      "#         preamble = [b'from metaflow import *'] \n",
      "#         os.system(real_command)\n",
      "```\n",
      "\n",
      "\n",
      "```python\n",
      "! echo hello\n",
      "```\n",
      "\n",
      "    hello\n",
      "\n",
      "\n",
      "\n",
      "```python\n",
      "from metaflow import FlowSpec, step\n",
      "\n",
      "class MyFlow(FlowSpec):\n",
      "    \n",
      "    @step\n",
      "    def start(self):\n",
      "        print('this is the start')\n",
      "        self.next(self.end)\n",
      "    \n",
      "    @step\n",
      "    def end(self):\n",
      "        print('this is the end')\n",
      "\n",
      "if __name__ == '__main__':\n",
      "    MyFlow()\n",
      "```\n",
      "\n",
      "    Overwriting myflow.py\n",
      "\n",
      "\n",
      "\n",
      "\n",
      "\n",
      "    2\n",
      "\n",
      "\n",
      "\n"
     ]
    }
   ],
   "source": [
    "print(hamel.from_filename('Custom_Doc_System.ipynb')[0])"
   ]
  },
  {
   "cell_type": "code",
   "execution_count": 35,
   "id": "186ec834-0f01-49b3-a890-5231bf510686",
   "metadata": {},
   "outputs": [],
   "source": [
    "from jinja2 import DictLoader\n",
    "\n",
    "dl = DictLoader({'ds':\n",
    "\"\"\"\n",
    "{%- extends 'markdown/index.md.j2' -%}\n",
    "\n",
    "{% block input %}\n",
    "```\n",
    "This template works!\n",
    "```\n",
    "{% endblock input %}\n",
    "\n",
    "\"\"\"})"
   ]
  },
  {
   "cell_type": "code",
   "execution_count": 37,
   "id": "a7d9a3c1-40be-4a5e-86e5-5d8efe764f68",
   "metadata": {},
   "outputs": [],
   "source": [
    "# from jinja2 import DictLoader\n",
    "\n",
    "# dl = DictLoader({'footer':\n",
    "# \"\"\"\n",
    "# {%- extends 'lab/index.html.j2' -%}\n",
    "\n",
    "# {% block footer %}\n",
    "# FOOOOOOOOTEEEEER\n",
    "# {% endblock footer %}\n",
    "# \"\"\"})\n",
    "\n",
    "\n",
    "# exportHTML = HTMLExporter(extra_loaders=[dl], template_file='footer')\n",
    "# (body, resources) = exportHTML.from_notebook_node(jake_notebook)\n",
    "# for l in body.split('\\n')[-4:]:\n",
    "#     print(l)"
   ]
  }
 ],
 "metadata": {
  "kernelspec": {
   "display_name": "Python 3.9.7 ('base')",
   "language": "python",
   "name": "python397jvsc74a57bd042fd40e048e0585f88ec242f050f7ef0895cf845a8dd1159352394e5826cd102"
  },
  "language_info": {
   "codemirror_mode": {
    "name": "ipython",
    "version": 3
   },
   "file_extension": ".py",
   "mimetype": "text/x-python",
   "name": "python",
   "nbconvert_exporter": "python",
   "pygments_lexer": "ipython3",
   "version": "3.9.7"
  }
 },
 "nbformat": 4,
 "nbformat_minor": 5
}
