{
 "cells": [
  {
   "cell_type": "markdown",
   "id": "61044849-f270-4251-884b-40eb5770a9ce",
   "metadata": {},
   "source": [
    "Doing this tutorial: https://nbconvert.readthedocs.io/en/latest/nbconvert_library.html"
   ]
  },
  {
   "cell_type": "code",
   "execution_count": 1,
   "id": "164955c6-9190-4e23-b2ac-254b4e17f0fb",
   "metadata": {},
   "outputs": [
    {
     "data": {
      "text/plain": [
       "'{\\n \"cells\": [\\n  {\\n   \"cell_type\": \"markdown\",\\n   \"metadata\": ...'"
      ]
     },
     "execution_count": 1,
     "metadata": {},
     "output_type": "execute_result"
    }
   ],
   "source": [
    "from urllib.request import urlopen\n",
    "\n",
    "url = 'https://jakevdp.github.io/downloads/notebooks/XKCD_plots.ipynb'\n",
    "response = urlopen(url).read().decode()\n",
    "response[0:60] + ' ...'"
   ]
  },
  {
   "cell_type": "code",
   "execution_count": 2,
   "id": "47f5ab0c-e192-4cd3-a5c1-b04016d603c9",
   "metadata": {},
   "outputs": [
    {
     "data": {
      "text/plain": [
       "{'cell_type': 'markdown',\n",
       " 'metadata': {},\n",
       " 'source': '# XKCD plots in Matplotlib'}"
      ]
     },
     "execution_count": 2,
     "metadata": {},
     "output_type": "execute_result"
    }
   ],
   "source": [
    "import nbformat\n",
    "jake_notebook = nbformat.reads(response, as_version=4)\n",
    "jake_notebook.cells[0]"
   ]
  },
  {
   "cell_type": "code",
   "execution_count": 28,
   "id": "ad725074-e59b-4b4f-abe4-3ffa17263287",
   "metadata": {},
   "outputs": [],
   "source": [
    "from traitlets.config import Config\n",
    "\n",
    "# 1. Import the exporter\n",
    "from nbconvert import HTMLExporter\n",
    "\n",
    "# 2. Instantiate the exporter. We use the `classic` template for now; we'll get into more details\n",
    "# later about how to customize the exporter further.\n",
    "html_exporter = HTMLExporter(template_name='classic')\n",
    "\n",
    "# 3. Process the notebook we loaded earlier\n",
    "(body, resources) = html_exporter.from_notebook_node(jake_notebook)"
   ]
  },
  {
   "cell_type": "code",
   "execution_count": 18,
   "id": "b11158c5-7fb1-4fc5-81b2-4232b3b07996",
   "metadata": {},
   "outputs": [
    {
     "name": "stdout",
     "output_type": "stream",
     "text": [
      "<!DOCTYPE html>\n",
      "<html>\n",
      "<head><meta charset=\"utf-8\" />\n",
      "<meta name=\"viewport\" content=\"width=device-width, initial-scale=1.0\">\n",
      "\n",
      "<title>Notebook</title><script src=\"https://cdnjs.cloudflare.com/ajax/libs/jquery/2.0.3/jquery.min.js\"></script><script src=\"https://cdnjs.cloudflare.com/ajax/libs/require.js/2.1.10/require.min.js\"></script>\n",
      "\n",
      "<style type=\"text/css\">\n",
      "  pre { line-height: 125%; }\n",
      "td.linenos ....\n"
     ]
    }
   ],
   "source": [
    "print(body[:400] + '...')\n"
   ]
  },
  {
   "cell_type": "code",
   "execution_count": 19,
   "id": "949146af-22b7-40e9-ae08-413bdf2761da",
   "metadata": {},
   "outputs": [
    {
     "name": "stdout",
     "output_type": "stream",
     "text": [
      "Resources: dict_keys(['metadata', 'output_extension', 'deprecated', 'theme', 'include_css', 'include_js', 'include_url', 'require_js_url', 'mathjax_url', 'jquery_url', 'jupyter_widgets_base_url', 'widget_renderer_url', 'html_manager_semver_range', 'inlining', 'raw_mimetypes', 'global_content_filter'])\n",
      "Metadata: dict_keys(['name'])\n",
      "Inlining: dict_keys(['css'])\n",
      "Extension: .html\n"
     ]
    }
   ],
   "source": [
    "print(\"Resources:\", resources.keys())\n",
    "print(\"Metadata:\", resources['metadata'].keys())\n",
    "print(\"Inlining:\", resources['inlining'].keys())\n",
    "print(\"Extension:\", resources['output_extension'])"
   ]
  },
  {
   "cell_type": "markdown",
   "id": "4603dbec-4396-4d17-b85c-c9b566004b0c",
   "metadata": {},
   "source": [
    "### High Level Notebook Conversion Process\n",
    "\n",
    "From [this](https://nbconvert.readthedocs.io/en/latest/nbconvert_library.html#Some-theory)\n",
    "\n",
    "Before we get into actually extracting the figures, it will be helpful to give a high-level overview of the process of converting a notebook to a another format:\n",
    "\n",
    "1. Retrieve the notebook and it’s accompanying resources (you are responsible for this).\n",
    "\n",
    "2. Feed the notebook into the `Exporter`, which:\n",
    "    \n",
    "    a. Sequentially feeds the notebook into an array of `Preprocessors`. Preprocessors only act on the structure of the notebook, and have unrestricted access to it.\n",
    "    \n",
    "    b. Feeds the notebook into the Jinja templating engine, which converts it to a particular format depending on which template is selected.\n",
    "    \n",
    "5. The exporter returns the converted notebook and other relevant resources as a tuple.\n",
    "\n",
    "6. You write the data to the disk using the built-in `FilesWriter` (which writes the notebook and any extracted files to disk), or elsewhere using a custom `Writer`."
   ]
  },
  {
   "cell_type": "markdown",
   "id": "826192bd-c328-4f88-b241-1a6df22c7b54",
   "metadata": {},
   "source": [
    "### Creating Template files on the fly: means you don't have to store templates."
   ]
  },
  {
   "cell_type": "code",
   "execution_count": 25,
   "id": "d7cf08bf-9539-462c-9d41-e198e4a6be87",
   "metadata": {},
   "outputs": [
    {
     "name": "stdout",
     "output_type": "stream",
     "text": [
      "</body>\n",
      "\n",
      "FOOOOOOOOTEEEEER\n",
      "\n"
     ]
    }
   ],
   "source": [
    "from jinja2 import DictLoader\n",
    "\n",
    "dl = DictLoader({'footer2':\n",
    "\"\"\"\n",
    "{%- extends 'lab/index.html.j2' -%}\n",
    "\n",
    "{% block footer %}\n",
    "FOOOOOOOOTEEEEER\n",
    "{% endblock footer %}\n",
    "\"\"\"})\n",
    "\n",
    "\n",
    "exportHTML = HTMLExporter(extra_loaders=[dl], template_file='footer2')\n",
    "(body, resources) = exportHTML.from_notebook_node(jake_notebook)\n",
    "for l in body.split('\\n')[-4:]:\n",
    "    print(l)\n"
   ]
  },
  {
   "cell_type": "markdown",
   "id": "57daec50-5cd0-429f-82fc-1c24aa989a4b",
   "metadata": {},
   "source": [
    "## Aside: WTF is [Traitlets](https://traitlets.readthedocs.io/en/stable/using_traitlets.html)"
   ]
  },
  {
   "cell_type": "code",
   "execution_count": 54,
   "id": "8cef26cb-d56b-496d-a63c-59fe0eaebadb",
   "metadata": {},
   "outputs": [],
   "source": [
    "from traitlets import HasTraits, Int, Unicode, default, TraitError\n",
    "import getpass\n",
    "\n",
    "class Identity(HasTraits):\n",
    "    username = Unicode()\n",
    "\n",
    "    @default('username')\n",
    "    def _default_username(self):\n",
    "        return getpass.getuser() # getpass is in the standard lib and getuser() gets the user name."
   ]
  },
  {
   "cell_type": "markdown",
   "id": "a02c86fa-7f08-4a25-b8e8-0a7d7a752e5e",
   "metadata": {},
   "source": [
    "Two things going on here:\n",
    "\n",
    "1. the default value of `username` will be set to whatever is returned by the thing decorated by `@default('username')`.  The method can be named anything, but the convention is `_default_<property_name>`.\n",
    "2. There will be input validation such that a `Trait` error will be raised if the input passed is of a different type."
   ]
  },
  {
   "cell_type": "code",
   "execution_count": 55,
   "id": "4d83a99e-93e8-4ab7-94e5-528eb817aa2e",
   "metadata": {},
   "outputs": [],
   "source": [
    "i = Identity() # the default value is used\n",
    "assert i.username == getpass.getuser()"
   ]
  },
  {
   "cell_type": "code",
   "execution_count": 64,
   "id": "5e05629f-3b15-4ae8-aa06-53013a60d505",
   "metadata": {},
   "outputs": [
    {
     "name": "stdout",
     "output_type": "stream",
     "text": [
      "The 'username' trait of an Identity instance expected a unicode string, not the int 3.\n"
     ]
    }
   ],
   "source": [
    "try:\n",
    "    i = Identity(username=3)\n",
    "except TraitError as e:\n",
    "    print(e)"
   ]
  },
  {
   "cell_type": "markdown",
   "id": "65f8d3fd-a507-45dc-8629-f5f174d7bdfc",
   "metadata": {},
   "source": [
    "#### Fine, what about `traitlets.config.Config`"
   ]
  },
  {
   "cell_type": "code",
   "execution_count": null,
   "id": "f63770a7-9a88-42fc-a34c-21fb75202d0b",
   "metadata": {},
   "outputs": [],
   "source": []
  }
 ],
 "metadata": {
  "kernelspec": {
   "display_name": "Python 3 (ipykernel)",
   "language": "python",
   "name": "python3"
  },
  "language_info": {
   "codemirror_mode": {
    "name": "ipython",
    "version": 3
   },
   "file_extension": ".py",
   "mimetype": "text/x-python",
   "name": "python",
   "nbconvert_exporter": "python",
   "pygments_lexer": "ipython3",
   "version": "3.9.7"
  }
 },
 "nbformat": 4,
 "nbformat_minor": 5
}
