{
 "cells": [
  {
   "cell_type": "markdown",
   "id": "61044849-f270-4251-884b-40eb5770a9ce",
   "metadata": {},
   "source": [
    "Doing this tutorial: https://nbconvert.readthedocs.io/en/latest/nbconvert_library.html"
   ]
  },
  {
   "cell_type": "code",
   "execution_count": 1,
   "id": "164955c6-9190-4e23-b2ac-254b4e17f0fb",
   "metadata": {},
   "outputs": [
    {
     "data": {
      "text/plain": [
       "'{\\n \"cells\": [\\n  {\\n   \"cell_type\": \"markdown\",\\n   \"metadata\": ...'"
      ]
     },
     "execution_count": 1,
     "metadata": {},
     "output_type": "execute_result"
    }
   ],
   "source": [
    "from urllib.request import urlopen\n",
    "\n",
    "url = 'https://jakevdp.github.io/downloads/notebooks/XKCD_plots.ipynb'\n",
    "response = urlopen(url).read().decode()\n",
    "response[0:60] + ' ...'"
   ]
  },
  {
   "cell_type": "code",
   "execution_count": 2,
   "id": "47f5ab0c-e192-4cd3-a5c1-b04016d603c9",
   "metadata": {},
   "outputs": [
    {
     "data": {
      "text/plain": [
       "{'cell_type': 'markdown',\n",
       " 'metadata': {},\n",
       " 'source': '# XKCD plots in Matplotlib'}"
      ]
     },
     "execution_count": 2,
     "metadata": {},
     "output_type": "execute_result"
    }
   ],
   "source": [
    "import nbformat\n",
    "jake_notebook = nbformat.reads(response, as_version=4)\n",
    "jake_notebook.cells[0]"
   ]
  },
  {
   "cell_type": "code",
   "execution_count": 28,
   "id": "ad725074-e59b-4b4f-abe4-3ffa17263287",
   "metadata": {},
   "outputs": [],
   "source": [
    "from traitlets.config import Config\n",
    "\n",
    "# 1. Import the exporter\n",
    "from nbconvert import HTMLExporter\n",
    "\n",
    "# 2. Instantiate the exporter. We use the `classic` template for now; we'll get into more details\n",
    "# later about how to customize the exporter further.\n",
    "html_exporter = HTMLExporter(template_name='classic')\n",
    "\n",
    "# 3. Process the notebook we loaded earlier\n",
    "(body, resources) = html_exporter.from_notebook_node(jake_notebook)"
   ]
  },
  {
   "cell_type": "code",
   "execution_count": 18,
   "id": "b11158c5-7fb1-4fc5-81b2-4232b3b07996",
   "metadata": {},
   "outputs": [
    {
     "name": "stdout",
     "output_type": "stream",
     "text": [
      "<!DOCTYPE html>\n",
      "<html>\n",
      "<head><meta charset=\"utf-8\" />\n",
      "<meta name=\"viewport\" content=\"width=device-width, initial-scale=1.0\">\n",
      "\n",
      "<title>Notebook</title><script src=\"https://cdnjs.cloudflare.com/ajax/libs/jquery/2.0.3/jquery.min.js\"></script><script src=\"https://cdnjs.cloudflare.com/ajax/libs/require.js/2.1.10/require.min.js\"></script>\n",
      "\n",
      "<style type=\"text/css\">\n",
      "  pre { line-height: 125%; }\n",
      "td.linenos ....\n"
     ]
    }
   ],
   "source": [
    "print(body[:400] + '...')\n"
   ]
  },
  {
   "cell_type": "code",
   "execution_count": 19,
   "id": "949146af-22b7-40e9-ae08-413bdf2761da",
   "metadata": {},
   "outputs": [
    {
     "name": "stdout",
     "output_type": "stream",
     "text": [
      "Resources: dict_keys(['metadata', 'output_extension', 'deprecated', 'theme', 'include_css', 'include_js', 'include_url', 'require_js_url', 'mathjax_url', 'jquery_url', 'jupyter_widgets_base_url', 'widget_renderer_url', 'html_manager_semver_range', 'inlining', 'raw_mimetypes', 'global_content_filter'])\n",
      "Metadata: dict_keys(['name'])\n",
      "Inlining: dict_keys(['css'])\n",
      "Extension: .html\n"
     ]
    }
   ],
   "source": [
    "print(\"Resources:\", resources.keys())\n",
    "print(\"Metadata:\", resources['metadata'].keys())\n",
    "print(\"Inlining:\", resources['inlining'].keys())\n",
    "print(\"Extension:\", resources['output_extension'])"
   ]
  },
  {
   "cell_type": "code",
   "execution_count": 140,
   "id": "e6eb0269-1fca-48a0-b29a-f009e7f77a8e",
   "metadata": {},
   "outputs": [],
   "source": [
    "from traitlets import Integer\n",
    "from nbconvert.preprocessors import Preprocessor\n",
    "\n",
    "class PelicanSubCell(Preprocessor):\n",
    "    \"\"\"A Pelican specific preprocessor to remove some of the cells of a notebook\"\"\"\n",
    "\n",
    "    # I could also read the cells from nb.metadata.pelican if someone wrote a JS extension,\n",
    "    # but for now I'll stay with configurable value.\n",
    "    start = Integer(0,  help=\"first cell of notebook to be converted\").tag(config=True)\n",
    "    end   = Integer(-1, help=\"last cell of notebook to be converted\").tag(config=True)\n",
    "\n",
    "    def preprocess(self, nb, resources):\n",
    "        self.log.info(\"I'll keep only cells from %d to %d\", self.start, self.end)\n",
    "        nb.cells = nb.cells[self.start:self.end]\n",
    "        return nb, resources"
   ]
  },
  {
   "cell_type": "code",
   "execution_count": 143,
   "id": "a71b076b-7095-4271-8f72-d3c3dd991e3b",
   "metadata": {},
   "outputs": [
    {
     "name": "stdout",
     "output_type": "stream",
     "text": [
      ".. code:: ipython3\n",
      "\n",
      "    from IPython.display import Image\n",
      "    Image('http://jakevdp.github.com/figures/xkcd_version.png')\n",
      "\n",
      "\n",
      "\n",
      "\n",
      ".. image:: output_3_0.png\n",
      "\n",
      "\n",
      "\n",
      "Sometimes when showing schematic plots, this is the type of figure I\n",
      "want to display. But drawing it by hand is a pain: I’d rather just use\n",
      "matplotlib. The problem is, matplotlib is a bit too precise. Attempting\n",
      "to duplicate this figure in matplotlib leads to something like this:\n",
      "\n",
      ".. code:: ipython3\n",
      "\n",
      "    Image('http://jakevdp.github.com/figures/mpl_version.png')\n",
      "\n",
      "\n",
      "\n",
      "\n",
      ".. image:: output_5_0.png\n",
      "\n",
      "\n",
      "\n"
     ]
    }
   ],
   "source": [
    "# Create a new config object that configures both the new preprocessor, as well as the exporter\n",
    "c =  Config()\n",
    "c.PelicanSubCell.start = 3\n",
    "c.PelicanSubCell.end = 6\n",
    "c.RSTExporter.preprocessors = [PelicanSubCell]\n",
    "\n",
    "# Create our new, customized exporter that uses our custom preprocessor\n",
    "pelican = RSTExporter(config=c)\n",
    "\n",
    "# Process the notebook\n",
    "print(pelican.from_notebook_node(jake_notebook)[0])"
   ]
  },
  {
   "cell_type": "markdown",
   "id": "4603dbec-4396-4d17-b85c-c9b566004b0c",
   "metadata": {},
   "source": [
    "### High Level Notebook Conversion Process\n",
    "\n",
    "From [this](https://nbconvert.readthedocs.io/en/latest/nbconvert_library.html#Some-theory)\n",
    "\n",
    "Before we get into actually extracting the figures, it will be helpful to give a high-level overview of the process of converting a notebook to a another format:\n",
    "\n",
    "1. Retrieve the notebook and it’s accompanying resources (you are responsible for this).\n",
    "\n",
    "2. Feed the notebook into the `Exporter`, which:\n",
    "    \n",
    "    a. Sequentially feeds the notebook into an array of `Preprocessors`. Preprocessors only act on the structure of the notebook, and have unrestricted access to it.\n",
    "    \n",
    "    b. Feeds the notebook into the Jinja templating engine, which converts it to a particular format depending on which template is selected.\n",
    "    \n",
    "5. The exporter returns the converted notebook and other relevant resources as a tuple.\n",
    "\n",
    "6. You write the data to the disk using the built-in `FilesWriter` (which writes the notebook and any extracted files to disk), or elsewhere using a custom `Writer`."
   ]
  },
  {
   "cell_type": "markdown",
   "id": "826192bd-c328-4f88-b241-1a6df22c7b54",
   "metadata": {},
   "source": [
    "### Creating Template files on the fly: means you don't have to store templates."
   ]
  },
  {
   "cell_type": "code",
   "execution_count": 25,
   "id": "d7cf08bf-9539-462c-9d41-e198e4a6be87",
   "metadata": {},
   "outputs": [
    {
     "name": "stdout",
     "output_type": "stream",
     "text": [
      "</body>\n",
      "\n",
      "FOOOOOOOOTEEEEER\n",
      "\n"
     ]
    }
   ],
   "source": [
    "from jinja2 import DictLoader\n",
    "\n",
    "dl = DictLoader({'footer2':\n",
    "\"\"\"\n",
    "{%- extends 'lab/index.html.j2' -%}\n",
    "\n",
    "{% block footer %}\n",
    "FOOOOOOOOTEEEEER\n",
    "{% endblock footer %}\n",
    "\"\"\"})\n",
    "\n",
    "\n",
    "exportHTML = HTMLExporter(extra_loaders=[dl], template_file='footer2')\n",
    "(body, resources) = exportHTML.from_notebook_node(jake_notebook)\n",
    "for l in body.split('\\n')[-4:]:\n",
    "    print(l)\n"
   ]
  },
  {
   "cell_type": "markdown",
   "id": "57daec50-5cd0-429f-82fc-1c24aa989a4b",
   "metadata": {},
   "source": [
    "## Aside: WTF is [Traitlets](https://traitlets.readthedocs.io/en/stable/using_traitlets.html)"
   ]
  },
  {
   "cell_type": "code",
   "execution_count": 54,
   "id": "8cef26cb-d56b-496d-a63c-59fe0eaebadb",
   "metadata": {},
   "outputs": [],
   "source": [
    "from traitlets import HasTraits, Int, Unicode, default, TraitError\n",
    "import getpass\n",
    "\n",
    "class Identity(HasTraits):\n",
    "    username = Unicode()\n",
    "\n",
    "    @default('username')\n",
    "    def _default_username(self):\n",
    "        return getpass.getuser() # getpass is in the standard lib and getuser() gets the user name."
   ]
  },
  {
   "cell_type": "markdown",
   "id": "a02c86fa-7f08-4a25-b8e8-0a7d7a752e5e",
   "metadata": {},
   "source": [
    "Two things going on here:\n",
    "\n",
    "1. the default value of `username` will be set to whatever is returned by the thing decorated by `@default('username')`.  The method can be named anything, but the convention is `_default_<property_name>`.\n",
    "2. There will be input validation such that a `Trait` error will be raised if the input passed is of a different type."
   ]
  },
  {
   "cell_type": "code",
   "execution_count": 55,
   "id": "4d83a99e-93e8-4ab7-94e5-528eb817aa2e",
   "metadata": {},
   "outputs": [],
   "source": [
    "i = Identity() # the default value is used\n",
    "assert i.username == getpass.getuser()"
   ]
  },
  {
   "cell_type": "code",
   "execution_count": 64,
   "id": "5e05629f-3b15-4ae8-aa06-53013a60d505",
   "metadata": {},
   "outputs": [
    {
     "name": "stdout",
     "output_type": "stream",
     "text": [
      "The 'username' trait of an Identity instance expected a unicode string, not the int 3.\n"
     ]
    }
   ],
   "source": [
    "try:\n",
    "    i = Identity(username=3)\n",
    "except TraitError as e:\n",
    "    print(e)"
   ]
  },
  {
   "cell_type": "markdown",
   "id": "30aa539d-1e57-4129-a956-66cd9659823b",
   "metadata": {},
   "source": [
    "### Observe:, like callbacks if properties change values"
   ]
  },
  {
   "cell_type": "code",
   "execution_count": 97,
   "id": "6e748a04-1f1c-4201-8860-3116e44dd95d",
   "metadata": {},
   "outputs": [],
   "source": [
    "class Foo(HasTraits):\n",
    "    bar = Int()\n",
    "    baz = Unicode()\n",
    "\n",
    "foo = Foo()\n",
    "\n",
    "def func(change):\n",
    "    print(change.old)\n",
    "    print(change.new)   # as of traitlets 4.3, one should be able to\n",
    "                           # write print(change.new) instead"
   ]
  },
  {
   "cell_type": "code",
   "execution_count": 98,
   "id": "d72a4af1-34bf-481f-854f-5f0e7bf4b7a2",
   "metadata": {},
   "outputs": [
    {
     "data": {
      "text/plain": [
       "(0, '')"
      ]
     },
     "execution_count": 98,
     "metadata": {},
     "output_type": "execute_result"
    }
   ],
   "source": [
    "foo.bar, foo.baz"
   ]
  },
  {
   "cell_type": "code",
   "execution_count": 99,
   "id": "cffe2f4c-1bfe-4665-bd83-dc21bc2d109f",
   "metadata": {},
   "outputs": [],
   "source": [
    "foo.observe(func, names=['bar'])"
   ]
  },
  {
   "cell_type": "code",
   "execution_count": 100,
   "id": "1e635581-9815-47ad-914c-a9c0b9365f7d",
   "metadata": {},
   "outputs": [
    {
     "name": "stdout",
     "output_type": "stream",
     "text": [
      "0\n",
      "1\n"
     ]
    }
   ],
   "source": [
    "foo.bar = 1  # prints '0\\n 1'"
   ]
  },
  {
   "cell_type": "code",
   "execution_count": 101,
   "id": "2dbdfec0-a856-455c-b820-e7930326a039",
   "metadata": {},
   "outputs": [],
   "source": [
    "foo.bar = 1 # doesn't print anything because nothing has changed."
   ]
  },
  {
   "cell_type": "code",
   "execution_count": 102,
   "id": "9b413bbd-c0f0-492a-b92d-b6bf6001594a",
   "metadata": {},
   "outputs": [
    {
     "name": "stdout",
     "output_type": "stream",
     "text": [
      "1\n",
      "2\n"
     ]
    }
   ],
   "source": [
    "foo.bar = 2  # prints '1\\n 2'"
   ]
  },
  {
   "cell_type": "code",
   "execution_count": 103,
   "id": "917aa811-3d75-4f02-8615-0cfddcbb8a98",
   "metadata": {},
   "outputs": [],
   "source": [
    "foo.baz = 'abc'  # prints nothing b/c no observe thing"
   ]
  },
  {
   "cell_type": "markdown",
   "id": "65f8d3fd-a507-45dc-8629-f5f174d7bdfc",
   "metadata": {},
   "source": [
    "#### Fine, what about `traitlets.config.Config`\n",
    "\n",
    "https://traitlets.readthedocs.io/en/stable/config.html\n",
    "\n",
    "> This is the configuration system used by IPython and Jupyter."
   ]
  }
 ],
 "metadata": {
  "kernelspec": {
   "display_name": "Python 3 (ipykernel)",
   "language": "python",
   "name": "python3"
  },
  "language_info": {
   "codemirror_mode": {
    "name": "ipython",
    "version": 3
   },
   "file_extension": ".py",
   "mimetype": "text/x-python",
   "name": "python",
   "nbconvert_exporter": "python",
   "pygments_lexer": "ipython3",
   "version": "3.9.7"
  }
 },
 "nbformat": 4,
 "nbformat_minor": 5
}
