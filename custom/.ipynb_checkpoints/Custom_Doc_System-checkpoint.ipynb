{
 "cells": [
  {
   "cell_type": "code",
   "execution_count": 1,
   "id": "46d64e35",
   "metadata": {},
   "outputs": [],
   "source": [
    "from IPython.core.magic import register_cell_magic\n",
    "import tempfile, os\n",
    "\n",
    "@register_cell_magic\n",
    "def mf(line, cell):\n",
    "    with tempfile.NamedTemporaryFile() as fp:\n",
    "        cell_code = [s.encode('utf-8') for s in cell]\n",
    "        preamble = [b'from metaflow import *'] \n",
    "        fp.writelines(cell_code)\n",
    "        fp.seek(0)\n",
    "        command = f\"python {fp.name} {line}\"\n",
    "        print(f\">>> {command}\")\n",
    "        os.system(command)"
   ]
  },
  {
   "cell_type": "code",
   "execution_count": 2,
   "id": "09477a73",
   "metadata": {},
   "outputs": [
    {
     "name": "stdout",
     "output_type": "stream",
     "text": [
      ">>> python /var/folders/jj/xl1rktcs6mn7ms6b8vvx8k4r0000gn/T/tmpkggkmkkz run\n"
     ]
    },
    {
     "name": "stderr",
     "output_type": "stream",
     "text": [
      "Metaflow 2.5.0 executing MyFlow for user:hamel\n",
      "Validating your flow...\n",
      "    The graph looks good!\n",
      "Running pylint...\n",
      "    Pylint not found, so extra checks are disabled.\n"
     ]
    },
    {
     "name": "stdout",
     "output_type": "stream",
     "text": [
      "2022-02-01 22:25:07.855 Workflow starting (run-id 1643783107850240):\n",
      "2022-02-01 22:25:07.861 [1643783107850240/start/1 (pid 1520)] Task is starting.\n",
      "2022-02-01 22:25:08.381 [1643783107850240/start/1 (pid 1520)] this is the start\n",
      "2022-02-01 22:25:08.446 [1643783107850240/start/1 (pid 1520)] Task finished successfully.\n",
      "2022-02-01 22:25:08.452 [1643783107850240/end/2 (pid 1523)] Task is starting.\n",
      "2022-02-01 22:25:08.992 [1643783107850240/end/2 (pid 1523)] this is the end\n",
      "2022-02-01 22:25:09.062 [1643783107850240/end/2 (pid 1523)] Task finished successfully.\n",
      "2022-02-01 22:25:09.062 Done!\n"
     ]
    }
   ],
   "source": [
    "%%mf run\n",
    "from metaflow import FlowSpec, step\n",
    "\n",
    "class MyFlow(FlowSpec):\n",
    "    \n",
    "    @step\n",
    "    def start(self):\n",
    "        print('this is the start')\n",
    "        self.next(self.end)\n",
    "    \n",
    "    @step\n",
    "    def end(self):\n",
    "        print('this is the end')\n",
    "\n",
    "if __name__ == '__main__':\n",
    "    MyFlow()"
   ]
  },
  {
   "cell_type": "code",
   "execution_count": null,
   "id": "5bcbb20a",
   "metadata": {},
   "outputs": [],
   "source": []
  }
 ],
 "metadata": {
  "kernelspec": {
   "display_name": "Python 3 (ipykernel)",
   "language": "python",
   "name": "python3"
  },
  "language_info": {
   "codemirror_mode": {
    "name": "ipython",
    "version": 3
   },
   "file_extension": ".py",
   "mimetype": "text/x-python",
   "name": "python",
   "nbconvert_exporter": "python",
   "pygments_lexer": "ipython3",
   "version": "3.9.7"
  }
 },
 "nbformat": 4,
 "nbformat_minor": 5
}
