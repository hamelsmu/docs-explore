{
 "cells": [
  {
   "cell_type": "raw",
   "id": "c95703db",
   "metadata": {},
   "source": [
    "---\n",
    "title: my hello page title\n",
    "description: my hello page description\n",
    "hide_table_of_contents: true\n",
    "---"
   ]
  },
  {
   "cell_type": "code",
   "execution_count": 8,
   "id": "46d64e35",
   "metadata": {
    "tags": []
   },
   "outputs": [],
   "source": [
    "# from IPython.core.magic import register_cell_magic\n",
    "# import tempfile, os\n",
    "\n",
    "# @register_cell_magic\n",
    "# def mf(line, cell):\n",
    "#     with tempfile.NamedTemporaryFile() as fp:\n",
    "#         cell_code = [s.encode('utf-8') for s in cell]\n",
    "#         preamble = [b'from metaflow import *'] \n",
    "#         fp.writelines(cell_code)\n",
    "#         fp.seek(0)\n",
    "#         real_command = f\"python {fp.name} {line}\"\n",
    "#         disp_command = f\"python flow.py {line}\"\n",
    "#         print(f\">>> {disp_command}\")\n",
    "#         os.system(real_command)"
   ]
  },
  {
   "cell_type": "code",
   "execution_count": 9,
   "id": "6517a3a2",
   "metadata": {
    "tags": []
   },
   "outputs": [
    {
     "name": "stdout",
     "output_type": "stream",
     "text": [
      "hello\n"
     ]
    }
   ],
   "source": [
    "! echo hello"
   ]
  },
  {
   "cell_type": "code",
   "execution_count": 10,
   "id": "09477a73",
   "metadata": {
    "fence": "focus=11:13",
    "tags": []
   },
   "outputs": [
    {
     "name": "stdout",
     "output_type": "stream",
     "text": [
      "Overwriting myflow.py\n"
     ]
    }
   ],
   "source": [
    "%%writefile myflow.py\n",
    "\n",
    "from metaflow import FlowSpec, step\n",
    "\n",
    "class MyFlow(FlowSpec):\n",
    "    \n",
    "    @step\n",
    "    def start(self):\n",
    "        print('this is the start')\n",
    "        self.next(self.end)\n",
    "    \n",
    "    @step\n",
    "    def end(self):\n",
    "        print('this is the end')\n",
    "\n",
    "if __name__ == '__main__':\n",
    "    MyFlow()"
   ]
  },
  {
   "cell_type": "code",
   "execution_count": 31,
   "id": "445a4764",
   "metadata": {
    "tags": []
   },
   "outputs": [],
   "source": [
    "a = 2"
   ]
  }
 ],
 "metadata": {
  "celltoolbar": "Tags",
  "kernelspec": {
   "display_name": "Python 3 (ipykernel)",
   "language": "python",
   "name": "python3"
  },
  "language_info": {
   "codemirror_mode": {
    "name": "ipython",
    "version": 3
   },
   "file_extension": ".py",
   "mimetype": "text/x-python",
   "name": "python",
   "nbconvert_exporter": "python",
   "pygments_lexer": "ipython3",
   "version": "3.9.7"
  }
 },
 "nbformat": 4,
 "nbformat_minor": 5
}
